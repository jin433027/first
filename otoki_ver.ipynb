{
  "nbformat": 4,
  "nbformat_minor": 0,
  "metadata": {
    "colab": {
      "provenance": [],
      "authorship_tag": "ABX9TyOO0Fxevb/lKBPNR34prvxs",
      "include_colab_link": true
    },
    "kernelspec": {
      "name": "python3",
      "display_name": "Python 3"
    },
    "language_info": {
      "name": "python"
    }
  },
  "cells": [
    {
      "cell_type": "markdown",
      "metadata": {
        "id": "view-in-github",
        "colab_type": "text"
      },
      "source": [
        "<a href=\"https://colab.research.google.com/github/jin433027/first/blob/main/otoki_ver.ipynb\" target=\"_parent\"><img src=\"https://colab.research.google.com/assets/colab-badge.svg\" alt=\"Open In Colab\"/></a>"
      ]
    },
    {
      "cell_type": "markdown",
      "source": [
        "# **주식가치평가(오뚜기)**\n",
        "\n",
        "**배당할인모형을 바탕으로 가치평가를 진행하기**"
      ],
      "metadata": {
        "id": "E0T2ryOApvSC"
      }
    },
    {
      "cell_type": "code",
      "execution_count": 1,
      "metadata": {
        "id": "DD4ehLmTprzN"
      },
      "outputs": [],
      "source": [
        "import pandas as pd"
      ]
    },
    {
      "cell_type": "code",
      "source": [
        "fin = pd.read_csv('/content/inv_data_2024.csv')"
      ],
      "metadata": {
        "id": "Ojkmc-HErruv"
      },
      "execution_count": null,
      "outputs": []
    },
    {
      "cell_type": "markdown",
      "source": [
        "## **1. 항상성장모형을 적용하면 주식가치는?**"
      ],
      "metadata": {
        "id": "74vnxYacrVfj"
      }
    },
    {
      "cell_type": "markdown",
      "source": [
        "$$\n",
        "P_0 = \\frac{D_0(1+g)}{k - g}\n",
        "$$\n",
        "*할인율(k)를 7%라고 가정"
      ],
      "metadata": {
        "id": "v94wHirMuMw1"
      }
    },
    {
      "cell_type": "markdown",
      "source": [
        "1) 현재의 주당배당금($D_0$)"
      ],
      "metadata": {
        "id": "IkVbQkejvBJV"
      }
    },
    {
      "cell_type": "code",
      "source": [
        "#오뚜기의 배당금(천원)\n",
        "o_d_value = fin.loc[\n",
        "    (fin['Symbol'] == 'A007310') &\n",
        "    (fin['계정'] == '6000908016'),\n",
        "    '2024'\n",
        "].values[0]\n",
        "o_d_value = float(o_d_value.replace(',', ''))\n",
        "o_d = o_d_value*1000\n",
        "\n",
        "s_c_value = fin.loc[\n",
        "    (fin['Symbol'] == 'A007310') &\n",
        "    (fin['계정'] == 'S430001300'),\n",
        "    '2024'\n",
        "].values[0]\n",
        "s_c_value = float(s_c_value.replace(',', ''))\n",
        "\n",
        "pre_d_value = o_d / s_c_value\n",
        "pre_d_value"
      ],
      "metadata": {
        "colab": {
          "base_uri": "https://localhost:8080/"
        },
        "id": "PEezq00Vrcne",
        "outputId": "dc5cae9e-3fda-4e70-ad6c-74ddd85d8bfd"
      },
      "execution_count": null,
      "outputs": [
        {
          "output_type": "execute_result",
          "data": {
            "text/plain": [
              "7723.367258591307"
            ]
          },
          "metadata": {},
          "execution_count": 58
        }
      ]
    },
    {
      "cell_type": "markdown",
      "source": [
        "2) 배당성장률(g)\n",
        "\n",
        "g = b $\\times$ r = b $\\times$ ROE\n"
      ],
      "metadata": {
        "id": "IgePldrwx0xY"
      }
    },
    {
      "cell_type": "code",
      "source": [
        "#내부유보율 = (1-배당성향)\n",
        "#배당성향 = DPS/EPS\n",
        "eps_value = fin.loc[\n",
        "    (fin['Symbol'] == 'A007310') &\n",
        "    (fin['계정'] == '6000601002'),\n",
        "    '2024'\n",
        "].values[0]\n",
        "eps_value = float(eps_value.replace(',', ''))\n",
        "eps_value\n",
        "\n",
        "retention = float(pre_d_value / eps_value)\n",
        "\n",
        "b = 1 - retention\n",
        "b\n",
        "\n",
        "roe_value = fin.loc[\n",
        "    (fin['Symbol'] == 'A007310') &\n",
        "    (fin['계정'] == '6000312001'),\n",
        "    '2024'\n",
        "].values[0]\n",
        "roe_value = float(roe_value)\n",
        "roe_value = roe_value/100 #ROE가 %단위\n",
        "\n",
        "g_value = b * roe_value\n",
        "g_value"
      ],
      "metadata": {
        "colab": {
          "base_uri": "https://localhost:8080/"
        },
        "id": "CywVVmadrdHf",
        "outputId": "5d9db593-ceea-4754-a542-7876f605bc2c"
      },
      "execution_count": null,
      "outputs": [
        {
          "output_type": "execute_result",
          "data": {
            "text/plain": [
              "0.05012677968931874"
            ]
          },
          "metadata": {},
          "execution_count": 57
        }
      ]
    },
    {
      "cell_type": "markdown",
      "source": [
        "3) 주식가치($P_0$)"
      ],
      "metadata": {
        "id": "j_5_0GZP5G_X"
      }
    },
    {
      "cell_type": "code",
      "source": [
        "stock_price = pre_d_value *(1+g_value)/(0.07-g_value)\n",
        "stock_price"
      ],
      "metadata": {
        "colab": {
          "base_uri": "https://localhost:8080/"
        },
        "id": "KMim7T4j48Kp",
        "outputId": "b4bc5809-3c23-40aa-d12c-9ec3aec2df9e"
      },
      "execution_count": null,
      "outputs": [
        {
          "output_type": "execute_result",
          "data": {
            "text/plain": [
              "408112.7598260082"
            ]
          },
          "metadata": {},
          "execution_count": 44
        }
      ]
    },
    {
      "cell_type": "markdown",
      "source": [
        "## **2. 2기간성장모형을 적용하면 주식가치는?**\n",
        "(4년 동안의 성장률이 5년 이후부터는 절반으로 줄어든다고 가정)"
      ],
      "metadata": {
        "id": "rsFKAl8vrdX5"
      }
    },
    {
      "cell_type": "markdown",
      "source": [
        "$$\n",
        "P_0 = [\\frac{D_0(1+g_1)}{k - g_1}][1-\\frac{(1+g_1)^N}{(1+k)^N}]+\\frac{D_0(1+g_1)^N(1+g_2)}{(k - g_2)(1+k)^N}\n",
        "$$"
      ],
      "metadata": {
        "id": "kRTM41DS7iSY"
      }
    },
    {
      "cell_type": "code",
      "source": [
        "#5년이후부터 성장률이 절반으로 줄어든다는 가정\n",
        "g2_value = float(g_value / 2)\n",
        "g2_value\n",
        "\n",
        "n = float(4)\n",
        "k = float(0.07)"
      ],
      "metadata": {
        "id": "kXg7YwsvrkSW"
      },
      "execution_count": null,
      "outputs": []
    },
    {
      "cell_type": "code",
      "source": [
        "#고성장시기\n",
        "high_growth = (pre_d_value * (1 + g_value) / (k - g_value)) \\\n",
        "              * (1 - ((1 + g_value) ** n) / ((1 + k) ** n))\n",
        "\n",
        "#5년이후 저성장시기\n",
        "Dn_plus_1 = pre_d_value * (1 + g_value) ** n * (1 + g2_value)\n",
        "low_growth = Dn_plus_1 / (k - g2_value) / ((1 + k) ** n)\n",
        "\n",
        "#최종\n",
        "period_pre_value = high_growth + low_growth\n",
        "period_pre_value"
      ],
      "metadata": {
        "colab": {
          "base_uri": "https://localhost:8080/"
        },
        "id": "3zNxIIdMrkt9",
        "outputId": "24db3882-29b4-4f82-aebf-47c79fdb11d4"
      },
      "execution_count": null,
      "outputs": [
        {
          "output_type": "execute_result",
          "data": {
            "text/plain": [
              "192936.90198287778"
            ]
          },
          "metadata": {},
          "execution_count": 69
        }
      ]
    },
    {
      "cell_type": "markdown",
      "source": [
        "## **3. 유사기업인 농심, 삼양과 PER를 비교하여 가치를 평가한다면?**"
      ],
      "metadata": {
        "id": "tG5J1eAgrlL1"
      }
    },
    {
      "cell_type": "markdown",
      "source": [
        "$$\n",
        "P_T = PER_C \\times EPS_T\n",
        "$$"
      ],
      "metadata": {
        "id": "2xpUorRbFfOl"
      }
    },
    {
      "cell_type": "code",
      "source": [
        "#농심의 PER\n",
        "nongsim_per = fin.loc[\n",
        "    (fin['Symbol'] == 'A004370') &\n",
        "    (fin['계정'] == '6000701001'),\n",
        "    '2024'\n",
        "].values[0]\n",
        "nongsim_per = float(nongsim_per.replace(',', ''))\n",
        "nongsim_per\n",
        "\n",
        "#삼양식품의 PER\n",
        "samyang_per = fin.loc[\n",
        "    (fin['Symbol'] == 'A003230') &\n",
        "    (fin['계정'] == '6000701001'),\n",
        "    '2024'\n",
        "].values[0]\n",
        "samyang_per = float(samyang_per.replace(',', ''))\n",
        "samyang_per\n",
        "\n",
        "#경쟁기업의 PER\n",
        "peer_per = (nongsim_per + samyang_per) / 2\n",
        "peer_per\n",
        "\n",
        "#오뚜기의 EPS\n",
        "otoki_eps = fin.loc[\n",
        "    (fin['Symbol'] == 'A007310') &\n",
        "    (fin['계정'] == '6000601002'),\n",
        "    '2024'\n",
        "].values[0]\n",
        "otoki_eps = float(otoki_eps.replace(',', ''))\n",
        "otoki_eps\n",
        "\n",
        "#오뚜기의 PER 주식가치평가\n",
        "o_per_stock_value = otoki_eps * peer_per\n",
        "o_per_stock_value"
      ],
      "metadata": {
        "colab": {
          "base_uri": "https://localhost:8080/"
        },
        "id": "vxxhX6pBI2mn",
        "outputId": "eef7d324-deff-4048-88b4-cac58abb8717"
      },
      "execution_count": null,
      "outputs": [
        {
          "output_type": "execute_result",
          "data": {
            "text/plain": [
              "607975.1000000001"
            ]
          },
          "metadata": {},
          "execution_count": 81
        }
      ]
    },
    {
      "cell_type": "code",
      "source": [
        "#2024년 오뚜기 주식의 종가\n",
        "o_closing = fin.loc[\n",
        "    (fin['Symbol'] == 'A007310') &\n",
        "    (fin['계정'] == 'S430000200'),\n",
        "    '2024'\n",
        "].values[0]\n",
        "o_closing = float(o_closing.replace(',', ''))\n",
        "o_closing"
      ],
      "metadata": {
        "colab": {
          "base_uri": "https://localhost:8080/"
        },
        "id": "d3ETrfOaKhZ2",
        "outputId": "327d2098-b699-41c4-bd1b-c04ebde82778"
      },
      "execution_count": null,
      "outputs": [
        {
          "output_type": "execute_result",
          "data": {
            "text/plain": [
              "395500.0"
            ]
          },
          "metadata": {},
          "execution_count": 82
        }
      ]
    },
    {
      "cell_type": "code",
      "source": [
        "#최종 : PER 주가가치와 종가와 비교\n",
        "if o_per_stock_value > o_closing :\n",
        "  print(\"PER 비교시 주가는 종가에 비해 저평가되었다\")\n",
        "else:\n",
        "  print(\"PER 비교시 주가는 종가에 비해 고평가되었다\")"
      ],
      "metadata": {
        "colab": {
          "base_uri": "https://localhost:8080/"
        },
        "id": "RnPRSi9HLAij",
        "outputId": "d27a3aad-efc8-489c-cd6b-d55967ae5408"
      },
      "execution_count": null,
      "outputs": [
        {
          "output_type": "stream",
          "name": "stdout",
          "text": [
            "PER 비교시 주가는 종가에 비해 저평가되었다\n"
          ]
        }
      ]
    }
  ]
}