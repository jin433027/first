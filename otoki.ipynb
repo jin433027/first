{
  "nbformat": 4,
  "nbformat_minor": 0,
  "metadata": {
    "colab": {
      "provenance": []
    },
    "kernelspec": {
      "name": "python3",
      "display_name": "Python 3"
    },
    "language_info": {
      "name": "python"
    }
  },
  "cells": [
    {
      "cell_type": "markdown",
      "source": [
        "# **주식가치평가(오뚜기)**\n",
        "\n",
        "**배당할인모형을 바탕으로 가치평가를 진행하기**\n",
        "\n",
        "1. 항상성장모형을 적용하면 주식가치는?\n",
        "2. 2기간성장모형을 적용하면 주식가치는?\n",
        "3. 유사기업인 농심, 삼양과 PER를 비교하여 가치를 평가한다면?"
      ],
      "metadata": {
        "id": "E0T2ryOApvSC"
      }
    },
    {
      "cell_type": "code",
      "execution_count": null,
      "metadata": {
        "id": "DD4ehLmTprzN"
      },
      "outputs": [],
      "source": [
        "import pandas as pd\n",
        "import numpy as np\n",
        "import matplotlib.pyplot as plt"
      ]
    },
    {
      "cell_type": "code",
      "source": [
        "fin = pd.read_csv('/content/inv_data_2024.csv')\n"
      ],
      "metadata": {
        "id": "Ojkmc-HErruv"
      },
      "execution_count": null,
      "outputs": []
    },
    {
      "cell_type": "markdown",
      "source": [
        "## **1. 항상성장모형을 적용하면 주식가치는?**"
      ],
      "metadata": {
        "id": "74vnxYacrVfj"
      }
    },
    {
      "cell_type": "markdown",
      "source": [
        "$$\n",
        "P_0 = \\frac{D_0(1+g)}{k - g}\n",
        "$$\n",
        "\n",
        "*할인율(k)를 7%라고 가정\n"
      ],
      "metadata": {
        "id": "v94wHirMuMw1"
      }
    },
    {
      "cell_type": "markdown",
      "source": [
        "1) 현재의 주당배당금($D_0$)"
      ],
      "metadata": {
        "id": "IkVbQkejvBJV"
      }
    },
    {
      "cell_type": "code",
      "source": [
        "#오뚜기의 배당금(천원)\n",
        "o_d_value = fin.loc[\n",
        "    (fin['Symbol'] == 'A007310') &\n",
        "    (fin['계정'] == '6000908016'),\n",
        "    '2024'\n",
        "].values[0]\n",
        "o_d_value = float(o_d_value.replace(',', ''))\n",
        "o_d = o_d_value*1000\n",
        "\n",
        "s_c_value = fin.loc[\n",
        "    (fin['Symbol'] == 'A007310') &\n",
        "    (fin['계정'] == 'S430001300'),\n",
        "    '2024'\n",
        "].values[0]\n",
        "s_c_value = float(s_c_value.replace(',', ''))\n",
        "\n",
        "pre_d_value = o_d / s_c_value\n",
        "pre_d_value"
      ],
      "metadata": {
        "colab": {
          "base_uri": "https://localhost:8080/"
        },
        "id": "PEezq00Vrcne",
        "outputId": "dc5cae9e-3fda-4e70-ad6c-74ddd85d8bfd"
      },
      "execution_count": null,
      "outputs": [
        {
          "output_type": "execute_result",
          "data": {
            "text/plain": [
              "7723.367258591307"
            ]
          },
          "metadata": {},
          "execution_count": 58
        }
      ]
    },
    {
      "cell_type": "markdown",
      "source": [
        "2) 배당성장률(g)\n",
        "\n",
        "g = b $\\times$ r = b $\\times$ ROE\n"
      ],
      "metadata": {
        "id": "IgePldrwx0xY"
      }
    },
    {
      "cell_type": "code",
      "source": [
        "#내부유보율 = (1-배당성향)\n",
        "#배당성향 = DPS/EPS\n",
        "eps_value = fin.loc[\n",
        "    (fin['Symbol'] == 'A007310') &\n",
        "    (fin['계정'] == '6000601002'),\n",
        "    '2024'\n",
        "].values[0]\n",
        "eps_value = float(eps_value.replace(',', ''))\n",
        "eps_value\n",
        "\n",
        "retention = float(pre_d_value / eps_value)\n",
        "\n",
        "b = 1 - retention\n",
        "b\n",
        "\n",
        "roe_value = fin.loc[\n",
        "    (fin['Symbol'] == 'A007310') &\n",
        "    (fin['계정'] == '6000312001'),\n",
        "    '2024'\n",
        "].values[0]\n",
        "roe_value = float(roe_value)\n",
        "roe_value = roe_value/100 #ROE가 %단위\n",
        "\n",
        "g_value = b * roe_value\n",
        "g_value"
      ],
      "metadata": {
        "colab": {
          "base_uri": "https://localhost:8080/"
        },
        "id": "CywVVmadrdHf",
        "outputId": "5d9db593-ceea-4754-a542-7876f605bc2c"
      },
      "execution_count": null,
      "outputs": [
        {
          "output_type": "execute_result",
          "data": {
            "text/plain": [
              "0.05012677968931874"
            ]
          },
          "metadata": {},
          "execution_count": 57
        }
      ]
    },
    {
      "cell_type": "markdown",
      "source": [
        "3) 주식가치($P_0$)"
      ],
      "metadata": {
        "id": "j_5_0GZP5G_X"
      }
    },
    {
      "cell_type": "code",
      "source": [
        "stock_price = pre_d_value *(1+g_value)/(0.07-g_value)\n",
        "stock_price"
      ],
      "metadata": {
        "colab": {
          "base_uri": "https://localhost:8080/"
        },
        "id": "KMim7T4j48Kp",
        "outputId": "b4bc5809-3c23-40aa-d12c-9ec3aec2df9e"
      },
      "execution_count": null,
      "outputs": [
        {
          "output_type": "execute_result",
          "data": {
            "text/plain": [
              "408112.7598260082"
            ]
          },
          "metadata": {},
          "execution_count": 44
        }
      ]
    },
    {
      "cell_type": "markdown",
      "source": [
        "## **2. 2기간성장모형을 적용하면 주식가치는?**\n",
        "(4년 동안의 성장률이 5년 이후부터는 절반으로 줄어든다고 가정)"
      ],
      "metadata": {
        "id": "rsFKAl8vrdX5"
      }
    },
    {
      "cell_type": "markdown",
      "source": [
        "$$\n",
        "P_0 = [\\frac{D_0(1+g_1)}{k - g_1}][1-\\frac{(1+g_1)^N}{(1+k)^N}]+\\frac{D_0(1+g_1)^N(1+g_2)}{(k - g_2)(1+k)^N}\n",
        "$$"
      ],
      "metadata": {
        "id": "kRTM41DS7iSY"
      }
    },
    {
      "cell_type": "code",
      "source": [
        "#5년이후부터 성장률이 절반으로 줄어든다는 가정\n",
        "g2_value = float(g_value / 2)\n",
        "g2_value\n",
        "\n",
        "n = float(4)\n",
        "k = float(0.07)"
      ],
      "metadata": {
        "id": "kXg7YwsvrkSW"
      },
      "execution_count": null,
      "outputs": []
    },
    {
      "cell_type": "code",
      "source": [
        "#고성장시기\n",
        "high_growth = (pre_d_value * (1 + g_value) / (k - g_value)) \\\n",
        "              * (1 - ((1 + g_value) ** n) / ((1 + k) ** n))\n",
        "\n",
        "#5년이후 저성장시기\n",
        "Dn_plus_1 = pre_d_value * (1 + g_value) ** n * (1 + g2_value)\n",
        "low_growth = Dn_plus_1 / (k - g2_value) / ((1 + k) ** n)\n",
        "\n",
        "#최종\n",
        "period_pre_value = high_growth + low_growth\n",
        "period_pre_value"
      ],
      "metadata": {
        "colab": {
          "base_uri": "https://localhost:8080/"
        },
        "id": "3zNxIIdMrkt9",
        "outputId": "24db3882-29b4-4f82-aebf-47c79fdb11d4"
      },
      "execution_count": null,
      "outputs": [
        {
          "output_type": "execute_result",
          "data": {
            "text/plain": [
              "192936.90198287778"
            ]
          },
          "metadata": {},
          "execution_count": 69
        }
      ]
    },
    {
      "cell_type": "markdown",
      "source": [
        "## **3. 유사기업인 농심, 삼양과 PER를 비교하여 가치를 평가한다면?**"
      ],
      "metadata": {
        "id": "tG5J1eAgrlL1"
      }
    },
    {
      "cell_type": "markdown",
      "source": [
        "PER에 의한 주식가치평가\n",
        "$$\n",
        "P_T = PER_C \\times EPS_T\n",
        "$$"
      ],
      "metadata": {
        "id": "2xpUorRbFfOl"
      }
    },
    {
      "cell_type": "code",
      "source": [
        "#농심의 PER\n",
        "nongsim_per = fin.loc[\n",
        "    (fin['Symbol'] == 'A004370') &\n",
        "    (fin['계정'] == '6000701001'),\n",
        "    '2024'\n",
        "].values[0]\n",
        "nongsim_per = float(nongsim_per.replace(',', ''))\n",
        "nongsim_per\n",
        "\n",
        "#삼양식품의 PER\n",
        "samyang_per = fin.loc[\n",
        "    (fin['Symbol'] == 'A003230') &\n",
        "    (fin['계정'] == '6000701001'),\n",
        "    '2024'\n",
        "].values[0]\n",
        "samyang_per = float(samyang_per.replace(',', ''))\n",
        "samyang_per\n",
        "\n",
        "#경쟁기업의 PER\n",
        "peer_per = (nongsim_per + samyang_per) / 2\n",
        "peer_per\n",
        "\n",
        "#오뚜기의 EPS\n",
        "otoki_eps = fin.loc[\n",
        "    (fin['Symbol'] == 'A007310') &\n",
        "    (fin['계정'] == '6000601002'),\n",
        "    '2024'\n",
        "].values[0]\n",
        "otoki_eps = float(otoki_eps.replace(',', ''))\n",
        "otoki_eps\n",
        "\n",
        "#오뚜기의 PER 주식가치평가\n",
        "o_per_stock_value = otoki_eps * peer_per\n",
        "o_per_stock_value"
      ],
      "metadata": {
        "colab": {
          "base_uri": "https://localhost:8080/"
        },
        "id": "vxxhX6pBI2mn",
        "outputId": "eef7d324-deff-4048-88b4-cac58abb8717"
      },
      "execution_count": null,
      "outputs": [
        {
          "output_type": "execute_result",
          "data": {
            "text/plain": [
              "607975.1000000001"
            ]
          },
          "metadata": {},
          "execution_count": 81
        }
      ]
    },
    {
      "cell_type": "code",
      "source": [
        "#2024년 오뚜기 주식의 종가\n",
        "o_closing = fin.loc[\n",
        "    (fin['Symbol'] == 'A007310') &\n",
        "    (fin['계정'] == 'S430000200'),\n",
        "    '2024'\n",
        "].values[0]\n",
        "o_closing = float(o_closing.replace(',', ''))\n",
        "o_closing"
      ],
      "metadata": {
        "colab": {
          "base_uri": "https://localhost:8080/"
        },
        "id": "d3ETrfOaKhZ2",
        "outputId": "327d2098-b699-41c4-bd1b-c04ebde82778"
      },
      "execution_count": null,
      "outputs": [
        {
          "output_type": "execute_result",
          "data": {
            "text/plain": [
              "395500.0"
            ]
          },
          "metadata": {},
          "execution_count": 82
        }
      ]
    },
    {
      "cell_type": "code",
      "source": [
        "#최종 : PER 주가가치와 종가와 비교\n",
        "if o_per_stock_value > o_closing :\n",
        "  print(\"PER 비교시 주가는 종가에 비해 저평가되었다\")\n",
        "else:\n",
        "  print(\"PER 비교시 주가는 종가에 비해 고평가되었다\")"
      ],
      "metadata": {
        "colab": {
          "base_uri": "https://localhost:8080/"
        },
        "id": "RnPRSi9HLAij",
        "outputId": "d27a3aad-efc8-489c-cd6b-d55967ae5408"
      },
      "execution_count": null,
      "outputs": [
        {
          "output_type": "stream",
          "name": "stdout",
          "text": [
            "PER 비교시 주가는 종가에 비해 저평가되었다\n"
          ]
        }
      ]
    },
    {
      "cell_type": "code",
      "source": [
        "!jupyter nbconvert --to html otoki.ipynb"
      ],
      "metadata": {
        "colab": {
          "base_uri": "https://localhost:8080/"
        },
        "id": "DTmUIk05Ntso",
        "outputId": "c5d2dc2e-9cba-4b1c-8e4d-29419791ca4d"
      },
      "execution_count": 92,
      "outputs": [
        {
          "output_type": "stream",
          "name": "stdout",
          "text": [
            "[NbConvertApp] WARNING | pattern 'otoki.ipynb' matched no files\n",
            "This application is used to convert notebook files (*.ipynb)\n",
            "        to various other formats.\n",
            "\n",
            "        WARNING: THE COMMANDLINE INTERFACE MAY CHANGE IN FUTURE RELEASES.\n",
            "\n",
            "Options\n",
            "=======\n",
            "The options below are convenience aliases to configurable class-options,\n",
            "as listed in the \"Equivalent to\" description-line of the aliases.\n",
            "To see all configurable class-options for some <cmd>, use:\n",
            "    <cmd> --help-all\n",
            "\n",
            "--debug\n",
            "    set log level to logging.DEBUG (maximize logging output)\n",
            "    Equivalent to: [--Application.log_level=10]\n",
            "--show-config\n",
            "    Show the application's configuration (human-readable format)\n",
            "    Equivalent to: [--Application.show_config=True]\n",
            "--show-config-json\n",
            "    Show the application's configuration (json format)\n",
            "    Equivalent to: [--Application.show_config_json=True]\n",
            "--generate-config\n",
            "    generate default config file\n",
            "    Equivalent to: [--JupyterApp.generate_config=True]\n",
            "-y\n",
            "    Answer yes to any questions instead of prompting.\n",
            "    Equivalent to: [--JupyterApp.answer_yes=True]\n",
            "--execute\n",
            "    Execute the notebook prior to export.\n",
            "    Equivalent to: [--ExecutePreprocessor.enabled=True]\n",
            "--allow-errors\n",
            "    Continue notebook execution even if one of the cells throws an error and include the error message in the cell output (the default behaviour is to abort conversion). This flag is only relevant if '--execute' was specified, too.\n",
            "    Equivalent to: [--ExecutePreprocessor.allow_errors=True]\n",
            "--stdin\n",
            "    read a single notebook file from stdin. Write the resulting notebook with default basename 'notebook.*'\n",
            "    Equivalent to: [--NbConvertApp.from_stdin=True]\n",
            "--stdout\n",
            "    Write notebook output to stdout instead of files.\n",
            "    Equivalent to: [--NbConvertApp.writer_class=StdoutWriter]\n",
            "--inplace\n",
            "    Run nbconvert in place, overwriting the existing notebook (only\n",
            "            relevant when converting to notebook format)\n",
            "    Equivalent to: [--NbConvertApp.use_output_suffix=False --NbConvertApp.export_format=notebook --FilesWriter.build_directory=]\n",
            "--clear-output\n",
            "    Clear output of current file and save in place,\n",
            "            overwriting the existing notebook.\n",
            "    Equivalent to: [--NbConvertApp.use_output_suffix=False --NbConvertApp.export_format=notebook --FilesWriter.build_directory= --ClearOutputPreprocessor.enabled=True]\n",
            "--coalesce-streams\n",
            "    Coalesce consecutive stdout and stderr outputs into one stream (within each cell).\n",
            "    Equivalent to: [--NbConvertApp.use_output_suffix=False --NbConvertApp.export_format=notebook --FilesWriter.build_directory= --CoalesceStreamsPreprocessor.enabled=True]\n",
            "--no-prompt\n",
            "    Exclude input and output prompts from converted document.\n",
            "    Equivalent to: [--TemplateExporter.exclude_input_prompt=True --TemplateExporter.exclude_output_prompt=True]\n",
            "--no-input\n",
            "    Exclude input cells and output prompts from converted document.\n",
            "            This mode is ideal for generating code-free reports.\n",
            "    Equivalent to: [--TemplateExporter.exclude_output_prompt=True --TemplateExporter.exclude_input=True --TemplateExporter.exclude_input_prompt=True]\n",
            "--allow-chromium-download\n",
            "    Whether to allow downloading chromium if no suitable version is found on the system.\n",
            "    Equivalent to: [--WebPDFExporter.allow_chromium_download=True]\n",
            "--disable-chromium-sandbox\n",
            "    Disable chromium security sandbox when converting to PDF..\n",
            "    Equivalent to: [--WebPDFExporter.disable_sandbox=True]\n",
            "--show-input\n",
            "    Shows code input. This flag is only useful for dejavu users.\n",
            "    Equivalent to: [--TemplateExporter.exclude_input=False]\n",
            "--embed-images\n",
            "    Embed the images as base64 dataurls in the output. This flag is only useful for the HTML/WebPDF/Slides exports.\n",
            "    Equivalent to: [--HTMLExporter.embed_images=True]\n",
            "--sanitize-html\n",
            "    Whether the HTML in Markdown cells and cell outputs should be sanitized..\n",
            "    Equivalent to: [--HTMLExporter.sanitize_html=True]\n",
            "--log-level=<Enum>\n",
            "    Set the log level by value or name.\n",
            "    Choices: any of [0, 10, 20, 30, 40, 50, 'DEBUG', 'INFO', 'WARN', 'ERROR', 'CRITICAL']\n",
            "    Default: 30\n",
            "    Equivalent to: [--Application.log_level]\n",
            "--config=<Unicode>\n",
            "    Full path of a config file.\n",
            "    Default: ''\n",
            "    Equivalent to: [--JupyterApp.config_file]\n",
            "--to=<Unicode>\n",
            "    The export format to be used, either one of the built-in formats\n",
            "            ['asciidoc', 'custom', 'html', 'latex', 'markdown', 'notebook', 'pdf', 'python', 'qtpdf', 'qtpng', 'rst', 'script', 'slides', 'webpdf']\n",
            "            or a dotted object name that represents the import path for an\n",
            "            ``Exporter`` class\n",
            "    Default: ''\n",
            "    Equivalent to: [--NbConvertApp.export_format]\n",
            "--template=<Unicode>\n",
            "    Name of the template to use\n",
            "    Default: ''\n",
            "    Equivalent to: [--TemplateExporter.template_name]\n",
            "--template-file=<Unicode>\n",
            "    Name of the template file to use\n",
            "    Default: None\n",
            "    Equivalent to: [--TemplateExporter.template_file]\n",
            "--theme=<Unicode>\n",
            "    Template specific theme(e.g. the name of a JupyterLab CSS theme distributed\n",
            "    as prebuilt extension for the lab template)\n",
            "    Default: 'light'\n",
            "    Equivalent to: [--HTMLExporter.theme]\n",
            "--sanitize_html=<Bool>\n",
            "    Whether the HTML in Markdown cells and cell outputs should be sanitized.This\n",
            "    should be set to True by nbviewer or similar tools.\n",
            "    Default: False\n",
            "    Equivalent to: [--HTMLExporter.sanitize_html]\n",
            "--writer=<DottedObjectName>\n",
            "    Writer class used to write the\n",
            "                                        results of the conversion\n",
            "    Default: 'FilesWriter'\n",
            "    Equivalent to: [--NbConvertApp.writer_class]\n",
            "--post=<DottedOrNone>\n",
            "    PostProcessor class used to write the\n",
            "                                        results of the conversion\n",
            "    Default: ''\n",
            "    Equivalent to: [--NbConvertApp.postprocessor_class]\n",
            "--output=<Unicode>\n",
            "    Overwrite base name use for output files.\n",
            "                Supports pattern replacements '{notebook_name}'.\n",
            "    Default: '{notebook_name}'\n",
            "    Equivalent to: [--NbConvertApp.output_base]\n",
            "--output-dir=<Unicode>\n",
            "    Directory to write output(s) to. Defaults\n",
            "                                  to output to the directory of each notebook. To recover\n",
            "                                  previous default behaviour (outputting to the current\n",
            "                                  working directory) use . as the flag value.\n",
            "    Default: ''\n",
            "    Equivalent to: [--FilesWriter.build_directory]\n",
            "--reveal-prefix=<Unicode>\n",
            "    The URL prefix for reveal.js (version 3.x).\n",
            "            This defaults to the reveal CDN, but can be any url pointing to a copy\n",
            "            of reveal.js.\n",
            "            For speaker notes to work, this must be a relative path to a local\n",
            "            copy of reveal.js: e.g., \"reveal.js\".\n",
            "            If a relative path is given, it must be a subdirectory of the\n",
            "            current directory (from which the server is run).\n",
            "            See the usage documentation\n",
            "            (https://nbconvert.readthedocs.io/en/latest/usage.html#reveal-js-html-slideshow)\n",
            "            for more details.\n",
            "    Default: ''\n",
            "    Equivalent to: [--SlidesExporter.reveal_url_prefix]\n",
            "--nbformat=<Enum>\n",
            "    The nbformat version to write.\n",
            "            Use this to downgrade notebooks.\n",
            "    Choices: any of [1, 2, 3, 4]\n",
            "    Default: 4\n",
            "    Equivalent to: [--NotebookExporter.nbformat_version]\n",
            "\n",
            "Examples\n",
            "--------\n",
            "\n",
            "    The simplest way to use nbconvert is\n",
            "\n",
            "            > jupyter nbconvert mynotebook.ipynb --to html\n",
            "\n",
            "            Options include ['asciidoc', 'custom', 'html', 'latex', 'markdown', 'notebook', 'pdf', 'python', 'qtpdf', 'qtpng', 'rst', 'script', 'slides', 'webpdf'].\n",
            "\n",
            "            > jupyter nbconvert --to latex mynotebook.ipynb\n",
            "\n",
            "            Both HTML and LaTeX support multiple output templates. LaTeX includes\n",
            "            'base', 'article' and 'report'.  HTML includes 'basic', 'lab' and\n",
            "            'classic'. You can specify the flavor of the format used.\n",
            "\n",
            "            > jupyter nbconvert --to html --template lab mynotebook.ipynb\n",
            "\n",
            "            You can also pipe the output to stdout, rather than a file\n",
            "\n",
            "            > jupyter nbconvert mynotebook.ipynb --stdout\n",
            "\n",
            "            PDF is generated via latex\n",
            "\n",
            "            > jupyter nbconvert mynotebook.ipynb --to pdf\n",
            "\n",
            "            You can get (and serve) a Reveal.js-powered slideshow\n",
            "\n",
            "            > jupyter nbconvert myslides.ipynb --to slides --post serve\n",
            "\n",
            "            Multiple notebooks can be given at the command line in a couple of\n",
            "            different ways:\n",
            "\n",
            "            > jupyter nbconvert notebook*.ipynb\n",
            "            > jupyter nbconvert notebook1.ipynb notebook2.ipynb\n",
            "\n",
            "            or you can specify the notebooks list in a config file, containing::\n",
            "\n",
            "                c.NbConvertApp.notebooks = [\"my_notebook.ipynb\"]\n",
            "\n",
            "            > jupyter nbconvert --config mycfg.py\n",
            "\n",
            "To see all available configurables, use `--help-all`.\n",
            "\n"
          ]
        }
      ]
    },
    {
      "cell_type": "code",
      "source": [
        "files.download('otoki.html')"
      ],
      "metadata": {
        "colab": {
          "base_uri": "https://localhost:8080/",
          "height": 269
        },
        "id": "AqoZCR4UNTsa",
        "outputId": "ae89180f-3e9a-4763-b0b5-470d15ced474"
      },
      "execution_count": 93,
      "outputs": [
        {
          "output_type": "error",
          "ename": "FileNotFoundError",
          "evalue": "Cannot find file: otoki.html",
          "traceback": [
            "\u001b[0;31m---------------------------------------------------------------------------\u001b[0m",
            "\u001b[0;31mFileNotFoundError\u001b[0m                         Traceback (most recent call last)",
            "\u001b[0;32m<ipython-input-93-7e13e9c76f92>\u001b[0m in \u001b[0;36m<cell line: 0>\u001b[0;34m()\u001b[0m\n\u001b[0;32m----> 1\u001b[0;31m \u001b[0mfiles\u001b[0m\u001b[0;34m.\u001b[0m\u001b[0mdownload\u001b[0m\u001b[0;34m(\u001b[0m\u001b[0;34m'otoki.html'\u001b[0m\u001b[0;34m)\u001b[0m\u001b[0;34m\u001b[0m\u001b[0;34m\u001b[0m\u001b[0m\n\u001b[0m",
            "\u001b[0;32m/usr/local/lib/python3.11/dist-packages/google/colab/files.py\u001b[0m in \u001b[0;36mdownload\u001b[0;34m(filename)\u001b[0m\n\u001b[1;32m    231\u001b[0m   \u001b[0;32mif\u001b[0m \u001b[0;32mnot\u001b[0m \u001b[0m_os\u001b[0m\u001b[0;34m.\u001b[0m\u001b[0mpath\u001b[0m\u001b[0;34m.\u001b[0m\u001b[0mexists\u001b[0m\u001b[0;34m(\u001b[0m\u001b[0mfilename\u001b[0m\u001b[0;34m)\u001b[0m\u001b[0;34m:\u001b[0m\u001b[0;34m\u001b[0m\u001b[0;34m\u001b[0m\u001b[0m\n\u001b[1;32m    232\u001b[0m     \u001b[0mmsg\u001b[0m \u001b[0;34m=\u001b[0m \u001b[0;34m'Cannot find file: {}'\u001b[0m\u001b[0;34m.\u001b[0m\u001b[0mformat\u001b[0m\u001b[0;34m(\u001b[0m\u001b[0mfilename\u001b[0m\u001b[0;34m)\u001b[0m\u001b[0;34m\u001b[0m\u001b[0;34m\u001b[0m\u001b[0m\n\u001b[0;32m--> 233\u001b[0;31m     \u001b[0;32mraise\u001b[0m \u001b[0mFileNotFoundError\u001b[0m\u001b[0;34m(\u001b[0m\u001b[0mmsg\u001b[0m\u001b[0;34m)\u001b[0m  \u001b[0;31m# pylint: disable=undefined-variable\u001b[0m\u001b[0;34m\u001b[0m\u001b[0;34m\u001b[0m\u001b[0m\n\u001b[0m\u001b[1;32m    234\u001b[0m \u001b[0;34m\u001b[0m\u001b[0m\n\u001b[1;32m    235\u001b[0m   \u001b[0mcomm_manager\u001b[0m \u001b[0;34m=\u001b[0m \u001b[0m_IPython\u001b[0m\u001b[0;34m.\u001b[0m\u001b[0mget_ipython\u001b[0m\u001b[0;34m(\u001b[0m\u001b[0;34m)\u001b[0m\u001b[0;34m.\u001b[0m\u001b[0mkernel\u001b[0m\u001b[0;34m.\u001b[0m\u001b[0mcomm_manager\u001b[0m\u001b[0;34m\u001b[0m\u001b[0;34m\u001b[0m\u001b[0m\n",
            "\u001b[0;31mFileNotFoundError\u001b[0m: Cannot find file: otoki.html"
          ]
        }
      ]
    }
  ]
}